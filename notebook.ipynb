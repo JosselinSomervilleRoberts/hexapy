{
 "cells": [
  {
   "cell_type": "code",
   "execution_count": 2,
   "metadata": {},
   "outputs": [],
   "source": [
    "import numpy as np\n",
    "from typing import Any, Union, List, Callable, Dict\n",
    "from abc import ABC"
   ]
  },
  {
   "cell_type": "markdown",
   "metadata": {},
   "source": [
    "# Tools"
   ]
  },
  {
   "cell_type": "markdown",
   "metadata": {},
   "source": [
    "## Parameter"
   ]
  },
  {
   "cell_type": "code",
   "execution_count": 3,
   "metadata": {},
   "outputs": [],
   "source": [
    "class Parameter:\n",
    "\n",
    "    def __init__(self, value: float):\n",
    "        self.value = value"
   ]
  },
  {
   "cell_type": "markdown",
   "metadata": {},
   "source": [
    "## Referentials"
   ]
  },
  {
   "cell_type": "code",
   "execution_count": 56,
   "metadata": {},
   "outputs": [],
   "source": [
    "class Referential(ABC):\n",
    "    @staticmethod\n",
    "    def from_ref(self, referential: 'Referential') -> np.ndarray:\n",
    "        pass\n",
    "\n",
    "class BaseRefential(Referential):\n",
    "    def from_ref(self, referential: Referential) -> np.ndarray:\n",
    "        if self == referential:\n",
    "            return np.eye(4)\n",
    "        transform_inversed = referential.from_ref(self)\n",
    "        return np.linalg.inv(transform_inversed)\n",
    "\n",
    "\n",
    "class Referential(Referential):\n",
    "\n",
    "    def __init__(self, parent: Referential, params: List[Parameter], transformation: Callable[[float], np.ndarray]):\n",
    "        self.parent = parent\n",
    "        self.params = params\n",
    "        self.transformation = transformation\n",
    "\n",
    "    def get_transformation_matrix(self):\n",
    "        return self.transformation(*[param.value for param in self.params])\n",
    "\n",
    "    def from_ref(self, referential: Referential) -> np.ndarray:\n",
    "        # From itself, the transformation matrix is the identity matrix\n",
    "        if self == referential:\n",
    "            return np.eye(4)\n",
    "        return  self.parent.from_ref(referential) @ self.get_transformation_matrix()\n"
   ]
  },
  {
   "cell_type": "markdown",
   "metadata": {},
   "source": [
    "## Vector"
   ]
  },
  {
   "cell_type": "code",
   "execution_count": 79,
   "metadata": {},
   "outputs": [],
   "source": [
    "class Vector:\n",
    "\n",
    "    def __init__(self, x: float, y: float, z: float, referential: Referential):\n",
    "        self.x = x\n",
    "        self.y = y\n",
    "        self.z = z\n",
    "        self.referential = referential\n",
    "\n",
    "    def np3(self) -> np.ndarray:\n",
    "        return np.array([self.x, self.y, self.z])\n",
    "    \n",
    "    def np4(self) -> np.ndarray:\n",
    "        return np.array([self.x, self.y, self.z, 1])\n",
    "\n",
    "    def in_ref(self, referential: Referential) -> 'Vector':\n",
    "        np4_in_ref = self.referential.from_ref(referential) @ self.np4()\n",
    "        return Vector(np4_in_ref[0], np4_in_ref[1], np4_in_ref[2], referential)\n",
    "    \n",
    "    def __add__(self, other: Union[np.ndarray, 'Vector']) -> 'Vector':\n",
    "        if isinstance(other, np.ndarray):\n",
    "            if not other.shape == (3,):\n",
    "                raise ValueError(\"Array must have shape (3,)\")\n",
    "            return Vector(self.x + other[0], self.y + other[1], self.z + other[2], self.referential)\n",
    "        elif isinstance(other, Vector):\n",
    "            if self.referential != other.referential:\n",
    "                raise ValueError(\"Cannot add Vectors in different referentials\")\n",
    "            return Vector(self.x + other.x, self.y + other.y, self.z + other.z, self.referential)\n",
    "        else:\n",
    "            raise ValueError(f\"Unsupported type for addition: {type(other)}\")\n",
    "        \n",
    "    def __sub__(self, other: Union[np.ndarray, 'Vector']) -> 'Vector':\n",
    "        if isinstance(other, Vector):\n",
    "            if self.referential != other.referential:\n",
    "                raise ValueError(\"Cannot subtract Vectors in different referentials\")\n",
    "            return Vector(self.x - other.x, self.y - other.y, self.z - other.z, self.referential)\n",
    "        else:\n",
    "            return self.__add__(-other)\n",
    "        \n",
    "    def __mul__(self, scalar: float) -> 'Vector':\n",
    "        return Vector(self.x * scalar, self.y * scalar, self.z * scalar, self.referential)\n",
    "    \n",
    "    def distance(self, other: 'Vector') -> float:\n",
    "        if self.referential != other.referential:\n",
    "            raise ValueError(\"Cannot compute distance between Vectors in different referentials\")\n",
    "        return np.linalg.norm(np.array([self.x, self.y, self.z]) - np.array([other.x, other.y, other.z]))\n",
    "    \n",
    "    def __repr__(self):\n",
    "        return f\"Vector({self.x}, {self.y}, {self.z}, {self.referential})\""
   ]
  },
  {
   "cell_type": "markdown",
   "metadata": {},
   "source": [
    "## A few transformation matrices"
   ]
  },
  {
   "cell_type": "code",
   "execution_count": 83,
   "metadata": {},
   "outputs": [],
   "source": [
    "def get_body_transormation_matrx(phi: float, psi: float, xi: float, base: np.ndarray) -> np.ndarray:\n",
    "    cphi, sphi = np.cos(phi), np.sin(phi)\n",
    "    cpsi, spsi = np.cos(psi), np.sin(psi)\n",
    "    cxi, sxi = np.cos(xi), np.sin(xi)\n",
    "    [xbase, ybase, zbase] = base\n",
    "    return np.array([\n",
    "        [cphi * cpsi - sphi  * spsi * sxi, -sphi * cxi, cphi * spsi + sphi * cpsi * sxi, xbase],\n",
    "        [sphi * cpsi + cphi  * spsi * sxi, +cphi * cxi, sphi * spsi - cphi * cpsi * sxi, ybase],\n",
    "        [-spsi * cxi, sxi, cpsi * cxi, zbase],\n",
    "        [0, 0, 0, 1]\n",
    "    ])\n",
    "\n",
    "def get_rotation_z_transform_matrix(theta: float, translation: np.ndarray) -> np.ndarray:\n",
    "    ctheta, stheta = np.cos(theta), np.sin(theta)\n",
    "    [x, y, z] = translation\n",
    "    return np.array([\n",
    "        [ctheta, stheta, 0, x],\n",
    "        [-stheta, ctheta, 0, y],\n",
    "        [0, 0, 1, z],\n",
    "        [0, 0, 0, 1]\n",
    "    ])\n",
    "\n",
    "def get_rotation_y_transform_matrix(theta: float, translation: np.ndarray) -> np.ndarray:\n",
    "    ctheta, stheta = np.cos(theta), np.sin(theta)\n",
    "    [x, y, z] = translation\n",
    "    return np.array([\n",
    "        [ctheta, 0, stheta, x],\n",
    "        [0, 1, 0, y],\n",
    "        [-stheta, 0, ctheta, z],\n",
    "        [0, 0, 0, 1]\n",
    "    ])\n",
    "\n",
    "def get_rotation_x_transform_matrix(theta: float, translation: np.ndarray) -> np.ndarray:\n",
    "    ctheta, stheta = np.cos(theta), np.sin(theta)\n",
    "    [x, y, z] = translation\n",
    "    return np.array([\n",
    "        [1, 0, 0, x],\n",
    "        [0, ctheta, -stheta, y],\n",
    "        [0, stheta, ctheta, z],\n",
    "        [0, 0, 0, 1]\n",
    "    ])\n",
    "\n",
    "def get_translation_transform_matrix(translation: np.ndarray) -> np.ndarray:\n",
    "    [x, y, z] = translation\n",
    "    return np.array([\n",
    "        [1, 0, 0, x],\n",
    "        [0, 1, 0, y],\n",
    "        [0, 0, 1, z],\n",
    "        [0, 0, 0, 1]\n",
    "    ])"
   ]
  },
  {
   "cell_type": "markdown",
   "metadata": {},
   "source": [
    "## Test everything put together"
   ]
  },
  {
   "cell_type": "code",
   "execution_count": 84,
   "metadata": {},
   "outputs": [],
   "source": [
    "params = {\n",
    "    \"phi\": Parameter(0),\n",
    "    \"psi\": Parameter(0),\n",
    "    \"xi\": Parameter(0),\n",
    "    \"dum1\": Parameter(0),\n",
    "    \"dum2\": Parameter(0),\n",
    "}\n",
    "\n",
    "base = BaseRefential()\n",
    "body = Referential(\n",
    "    parent=base,\n",
    "    params=[params[\"phi\"], params[\"psi\"], params[\"xi\"]],\n",
    "    transformation=lambda phi, psi, xi: get_body_transormation_matrx(phi, psi, xi, np.array([0, 0, 0]))\n",
    ")\n",
    "dummy1 = Referential(\n",
    "    parent=body,\n",
    "    params=[params[\"dum1\"]],\n",
    "    transformation=lambda dum1: get_rotation_z_transform_matrix(dum1, np.array([0, 0, 0]))\n",
    ")\n",
    "dummy2 = Referential(\n",
    "    parent=base,\n",
    "    params=[params[\"dum2\"]],\n",
    "    transformation=lambda dum2: get_rotation_z_transform_matrix(dum2, np.array([0, 0, 0]))\n",
    ")"
   ]
  },
  {
   "cell_type": "code",
   "execution_count": 85,
   "metadata": {},
   "outputs": [
    {
     "data": {
      "text/plain": [
       "array([[1., 0., 0., 0.],\n",
       "       [0., 1., 0., 0.],\n",
       "       [0., 0., 1., 0.],\n",
       "       [0., 0., 0., 1.]])"
      ]
     },
     "execution_count": 85,
     "metadata": {},
     "output_type": "execute_result"
    }
   ],
   "source": [
    "params[\"phi\"].value = 0.\n",
    "params[\"psi\"].value = 0.\n",
    "params[\"xi\"].value = 0.\n",
    "params[\"dum1\"].value = np.pi / 4\n",
    "params[\"dum2\"].value = np.pi / 4\n",
    "dummy1.from_ref(dummy2)"
   ]
  },
  {
   "cell_type": "markdown",
   "metadata": {},
   "source": [
    "# Leg"
   ]
  },
  {
   "cell_type": "code",
   "execution_count": 88,
   "metadata": {},
   "outputs": [],
   "source": [
    "class Leg:\n",
    "\n",
    "    def __init__(self, leg_start_pos: Vector, body: Referential, lengths: List[float]):\n",
    "        self.leg_start_pos = leg_start_pos\n",
    "        self.body = body\n",
    "        self.lengths = lengths\n",
    "        self._build_leg()\n",
    "\n",
    "    def _build_leg(self):\n",
    "        self.parameters = {\"alpha\": Parameter(0), \"beta\": Parameter(0), \"gamma\": Parameter(0)}\n",
    "        [l1, l2, l3] = self.lengths\n",
    "        self.referentials = [\n",
    "            Referential(\n",
    "                parent=self.body,\n",
    "                params=[self.parameters[\"alpha\"]],\n",
    "                transformation=lambda alpha: get_rotation_z_transform_matrix(alpha, self.leg_start_pos.np3())\n",
    "            ),\n",
    "        ]\n",
    "        self.referentials += [\n",
    "            Referential(\n",
    "                parent=self.referentials[-1],\n",
    "                params=[self.parameters[\"beta\"]],\n",
    "                transformation=lambda beta: get_rotation_y_transform_matrix(beta, np.array([l1, 0, 0]))\n",
    "            ),\n",
    "        ]\n",
    "        self.referentials += [\n",
    "            Referential(\n",
    "                parent=self.referentials[-1],\n",
    "                params=[self.parameters[\"gamma\"]],\n",
    "                transformation=lambda gamma: get_rotation_y_transform_matrix(gamma, np.array([l2, 0, 0]))\n",
    "            )\n",
    "        ]\n",
    "        self.referentials += [\n",
    "            Referential(\n",
    "                parent=self.referentials[-1],\n",
    "                params=[],\n",
    "                transformation=lambda: get_translation_transform_matrix(np.array([l3, 0, 0]))\n",
    "            )\n",
    "        ]\n",
    "\n",
    "    def set_angles(self, alpha: float, beta: float, gamma: float):\n",
    "        self.parameters[\"alpha\"].value = alpha\n",
    "        self.parameters[\"beta\"].value = beta\n",
    "        self.parameters[\"gamma\"].value = gamma\n",
    "\n",
    "    def set_alpha(self, alpha: float):\n",
    "        self.parameters[\"alpha\"].value = alpha\n",
    "\n",
    "    def set_beta(self, beta: float):\n",
    "        self.parameters[\"beta\"].value = beta\n",
    "\n",
    "    def set_gamma(self, gamma: float):\n",
    "        self.parameters[\"gamma\"].value = gamma\n",
    "\n",
    "    def get_angles(self) -> Dict[str, float]:\n",
    "        return {name: param.value for name, param in self.parameters.items()}\n",
    "    \n",
    "    def get_alpha(self) -> float:\n",
    "        return self.parameters[\"alpha\"].value\n",
    "    \n",
    "    def get_beta(self) -> float:\n",
    "        return self.parameters[\"beta\"].value\n",
    "    \n",
    "    def get_gamma(self) -> float:\n",
    "        return self.parameters[\"gamma\"].value\n",
    "    \n",
    "    def get_end_pos(self) -> Vector:\n",
    "        return self.end_pos\n",
    "    \n",
    "    def get_positions(self) -> List[Vector]:\n",
    "        return [Vector(0, 0, 0, ref) for ref in self.referentials]"
   ]
  },
  {
   "cell_type": "markdown",
   "metadata": {},
   "source": [
    "## Test leg"
   ]
  },
  {
   "cell_type": "code",
   "execution_count": 96,
   "metadata": {},
   "outputs": [
    {
     "data": {
      "text/plain": [
       "[array([1., 0., 0.]),\n",
       " array([3., 0., 0.]),\n",
       " array([ 5.12132034,  0.        , -2.12132034]),\n",
       " array([ 7.94974747,  0.        , -4.94974747]),\n",
       " array([10.77817459,  0.        , -7.77817459])]"
      ]
     },
     "execution_count": 96,
     "metadata": {},
     "output_type": "execute_result"
    }
   ],
   "source": [
    "leg = Leg(Vector(1, 0, 0, body), body, [2, 3, 4])\n",
    "leg.set_angles(0, np.pi/4, 0)\n",
    "[pos.in_ref(body).np3() for pos in leg.get_positions()]"
   ]
  },
  {
   "cell_type": "code",
   "execution_count": null,
   "metadata": {},
   "outputs": [],
   "source": []
  }
 ],
 "metadata": {
  "kernelspec": {
   "display_name": "hexapy",
   "language": "python",
   "name": "python3"
  },
  "language_info": {
   "codemirror_mode": {
    "name": "ipython",
    "version": 3
   },
   "file_extension": ".py",
   "mimetype": "text/x-python",
   "name": "python",
   "nbconvert_exporter": "python",
   "pygments_lexer": "ipython3",
   "version": "3.9.19"
  }
 },
 "nbformat": 4,
 "nbformat_minor": 2
}
